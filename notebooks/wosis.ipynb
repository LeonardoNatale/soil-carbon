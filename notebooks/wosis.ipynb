{
 "cells": [
  {
   "cell_type": "markdown",
   "metadata": {
    "pycharm": {
     "name": "#%% md\n"
    }
   },
   "source": [
    "# Reading WSIS database"
   ]
  },
  {
   "cell_type": "markdown",
   "metadata": {},
   "source": [
    "Datasets:\n",
    "- `wosis_201909_attributes.tsv`: This file lists the four to six letter code for each attribute,\n",
    "whether the attribute is a site or horizon property, the unit of measurement, the number of\n",
    "profiles respectively layers represented in the snapshot, and a brief description of each\n",
    "attribute, as well as the inferred uncertainty for each property\n",
    "- `wosis_201909_profiles.tsv`: This file contains the unique profile ID (i.e. primary key), the\n",
    "source of the data, country ISO code and name, accuracy of geographical coordinates,\n",
    "latitude and longitude (WGS 1984), point geometry of the location of the profile, maximum\n",
    "depth of soil described and sampled, as well as information on the soil classification system\n",
    "and edition. Depending on the soil classification system used, the number of fields will vary. \n",
    "- `wosis_201909_layer_chemical.tsv` and `wosis_201909_layer_physical.tsv`: The layer\n",
    "(horizon) data are presented in two separate file in view of their size, one for the chemical\n",
    "and one for the physical soil properties."
   ]
  },
  {
   "cell_type": "code",
   "execution_count": null,
   "metadata": {},
   "outputs": [],
   "source": [
    "import geopandas\n",
    "import pandas as pd\n",
    "import matplotlib.pyplot as plt"
   ]
  },
  {
   "cell_type": "markdown",
   "metadata": {},
   "source": [
    "The `wosis_201909.gpkg` file is the same as the `wosis_201909_profiles.tsv` file + `geometry` column."
   ]
  },
  {
   "cell_type": "code",
   "execution_count": null,
   "metadata": {},
   "outputs": [],
   "source": [
    "gdf = geopandas.read_file(\"../data/WoSIS_2019_September/wosis_201909.gpkg\")"
   ]
  },
  {
   "cell_type": "code",
   "execution_count": null,
   "metadata": {},
   "outputs": [],
   "source": [
    "gdf.sample(5)"
   ]
  },
  {
   "cell_type": "code",
   "execution_count": null,
   "metadata": {},
   "outputs": [],
   "source": [
    "attributes = pd.read_csv('../data/WoSIS_2019_September/wosis_201909_attributes.tsv', sep='\\t')\n",
    "# profiles = pd.read_csv('../data/WoSIS_2019_September/wosis_201909_profiles.tsv', sep='\\t')\n",
    "layers_chemical = pd.read_csv('../data/WoSIS_2019_September/wosis_201909_layers_chemical.tsv', sep='\\t')\n",
    "layers_physical = pd.read_csv('../data/WoSIS_2019_September/wosis_201909_layers_physical.tsv', sep='\\t')"
   ]
  },
  {
   "cell_type": "code",
   "execution_count": null,
   "metadata": {},
   "outputs": [],
   "source": [
    "gdf.columns"
   ]
  },
  {
   "cell_type": "code",
   "execution_count": null,
   "metadata": {},
   "outputs": [],
   "source": [
    "gdf[\"geometry\"].plot()"
   ]
  },
  {
   "cell_type": "markdown",
   "metadata": {},
   "source": [
    "Attributes:"
   ]
  },
  {
   "cell_type": "code",
   "execution_count": null,
   "metadata": {},
   "outputs": [],
   "source": [
    "attributes.sample(5)"
   ]
  },
  {
   "cell_type": "markdown",
   "metadata": {},
   "source": [
    "**ORGC** is the code for organic carbon:"
   ]
  },
  {
   "cell_type": "code",
   "execution_count": null,
   "metadata": {},
   "outputs": [],
   "source": [
    "attributes.iloc[23]"
   ]
  },
  {
   "cell_type": "markdown",
   "metadata": {},
   "source": [
    "**ORGC** is a chemical property, thus can be seen in `layers_chemical`:"
   ]
  },
  {
   "cell_type": "code",
   "execution_count": null,
   "metadata": {},
   "outputs": [],
   "source": [
    "layers_chemical.orgc_value"
   ]
  },
  {
   "cell_type": "markdown",
   "metadata": {},
   "source": [
    "Save carbon observations:"
   ]
  },
  {
   "cell_type": "code",
   "execution_count": null,
   "metadata": {},
   "outputs": [],
   "source": [
    "carbon = layers_chemical[layers_chemical['orgc_value'].notna()]"
   ]
  },
  {
   "cell_type": "markdown",
   "metadata": {},
   "source": [
    "Then, it is useful to keep only the **relevant columns** from `layers_chemicals`:"
   ]
  },
  {
   "cell_type": "markdown",
   "metadata": {},
   "source": [
    "Save the codes to drop:"
   ]
  },
  {
   "cell_type": "code",
   "execution_count": null,
   "metadata": {},
   "outputs": [],
   "source": [
    "attribute_codes = attributes.code.drop(23).tolist()"
   ]
  },
  {
   "cell_type": "markdown",
   "metadata": {},
   "source": [
    "and columns associated to each attribute:"
   ]
  },
  {
   "cell_type": "code",
   "execution_count": null,
   "metadata": {},
   "outputs": [],
   "source": [
    "attribute_columns = [\"value\", \"value_avg\", \"method\", \"date\",\n",
    "                    \"dataset_id\", \"profile_code\", \"licence\"]"
   ]
  },
  {
   "cell_type": "code",
   "execution_count": null,
   "metadata": {},
   "outputs": [],
   "source": [
    "[f\"{code.lower()}_{column}\" for column in attribute_columns]"
   ]
  },
  {
   "cell_type": "code",
   "execution_count": null,
   "metadata": {},
   "outputs": [],
   "source": [
    "columns_eliminated = 0\n",
    "for code in attribute_codes:\n",
    "    try:\n",
    "        carbon.drop([f\"{code.lower()}_{column}\" for column in attribute_columns], axis=1, inplace=True)\n",
    "        columns_eliminated += 1\n",
    "    except:\n",
    "        pass\n",
    "print(f\"{columns_eliminated} have been eliminated\")"
   ]
  },
  {
   "cell_type": "markdown",
   "metadata": {},
   "source": [
    "This dataset allows us to zoom on carbon:"
   ]
  },
  {
   "cell_type": "code",
   "execution_count": null,
   "metadata": {},
   "outputs": [],
   "source": [
    "carbon.columns"
   ]
  },
  {
   "cell_type": "code",
   "execution_count": null,
   "metadata": {},
   "outputs": [],
   "source": []
  },
  {
   "cell_type": "code",
   "execution_count": null,
   "metadata": {},
   "outputs": [],
   "source": [
    "carbon.sample(5)"
   ]
  },
  {
   "cell_type": "code",
   "execution_count": null,
   "metadata": {},
   "outputs": [],
   "source": [
    "carbon.profile_id"
   ]
  },
  {
   "cell_type": "markdown",
   "metadata": {},
   "source": [
    "I notice how `gdf` does not have a `profile_id` column. Therefore, I derive it from the profiles file."
   ]
  },
  {
   "cell_type": "code",
   "execution_count": null,
   "metadata": {},
   "outputs": [],
   "source": [
    "profiles = pd.read_csv('../data/WoSIS_2019_September/wosis_201909_profiles.tsv', sep='\\t')"
   ]
  },
  {
   "cell_type": "code",
   "execution_count": null,
   "metadata": {},
   "outputs": [],
   "source": [
    "gdf[\"profile_id\"] = profiles.profile_id.copy()"
   ]
  },
  {
   "cell_type": "markdown",
   "metadata": {},
   "source": [
    "Select only profiles with carbon observations:"
   ]
  },
  {
   "cell_type": "code",
   "execution_count": null,
   "metadata": {},
   "outputs": [],
   "source": [
    "carbon_profiles = gdf.loc[gdf.profile_id.isin(carbon.profile_id.unique())].copy()"
   ]
  },
  {
   "cell_type": "markdown",
   "metadata": {},
   "source": [
    "There are 35259 different profiles in the US. It might make sense to zoom into US fist."
   ]
  },
  {
   "cell_type": "code",
   "execution_count": null,
   "metadata": {},
   "outputs": [],
   "source": [
    "carbon_profiles[[\"country_name\", \"profile_id\"]].groupby(\"country_name\").agg(\"count\").sort_values(\"profile_id\", ascending=False)"
   ]
  },
  {
   "cell_type": "code",
   "execution_count": null,
   "metadata": {},
   "outputs": [],
   "source": [
    "world = geopandas.read_file(geopandas.datasets.get_path('naturalearth_lowres'))  # base map"
   ]
  },
  {
   "cell_type": "code",
   "execution_count": null,
   "metadata": {},
   "outputs": [],
   "source": [
    "base = world.plot(figsize=(15,10), color='white', edgecolor='black')\n",
    "\n",
    "carbon_profiles[\"geometry\"].plot(ax=base, marker='o', color='red', markersize=0.01)"
   ]
  },
  {
   "cell_type": "markdown",
   "metadata": {},
   "source": [
    "Looking at the US more in details:"
   ]
  },
  {
   "cell_type": "code",
   "execution_count": null,
   "metadata": {},
   "outputs": [],
   "source": [
    "US = world.query('name == \"United States of America\"')\n",
    "base = US.plot(figsize=(10,10), color='white', edgecolor='black')\n",
    "\n",
    "carbon_profiles.loc[carbon_profiles[\"country_name\"] == \"United States of America\"][\"geometry\"].plot(ax=base, marker='o', color='red', markersize=0.01)"
   ]
  }
 ],
 "metadata": {
  "kernelspec": {
   "display_name": "Python 3 (ipykernel)",
   "language": "python",
   "name": "python3"
  },
  "language_info": {
   "codemirror_mode": {
    "name": "ipython",
    "version": 3
   },
   "file_extension": ".py",
   "mimetype": "text/x-python",
   "name": "python",
   "nbconvert_exporter": "python",
   "pygments_lexer": "ipython3",
   "version": "3.8.10"
  }
 },
 "nbformat": 4,
 "nbformat_minor": 1
}
